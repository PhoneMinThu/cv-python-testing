{
 "cells": [
  {
   "cell_type": "code",
   "execution_count": null,
   "metadata": {},
   "outputs": [],
   "source": [
    "%reset -f\n"
   ]
  },
  {
   "cell_type": "code",
   "execution_count": null,
   "metadata": {},
   "outputs": [],
   "source": [
    "image_path = \"file/receipt1.jpg\""
   ]
  },
  {
   "cell_type": "code",
   "execution_count": null,
   "metadata": {},
   "outputs": [],
   "source": [
    "# dynamic kernals\n",
    "\n",
    "import numpy as np\n",
    "\n",
    "def generate_edge_detection_kernels(size):\n",
    "    \"\"\"\n",
    "    Generate dynamic edge detection kernels (vx_plus, vy_plus, vx_minus, vy_minus)\n",
    "    based on the specified size.\n",
    "\n",
    "    Parameters:\n",
    "    size (int): The size of the kernel (must be an odd number).\n",
    "\n",
    "    Returns:\n",
    "    tuple: (vx_plus, vy_plus, vx_minus, vy_minus)\n",
    "    \"\"\"\n",
    "    if size % 2 == 0:\n",
    "        raise ValueError(\"Size must be an odd number.\")\n",
    "\n",
    "    # Initialize the kernel with zeros\n",
    "    vx_plus = np.zeros((size, size))\n",
    "    center = size // 2  # Calculate the center index\n",
    "\n",
    "    # Fill the kernel with values based on distance from the center\n",
    "    for i in range(size):\n",
    "        for j in range(size):\n",
    "            vx_plus[i, j] = (j - center) * (abs(i - center) + 1)\n",
    "\n",
    "    # Transpose to create vy_plus\n",
    "    vy_plus = vx_plus.T\n",
    "\n",
    "    # Create vx_minus by negating vx_plus\n",
    "    vx_minus = -vx_plus\n",
    "\n",
    "    # Transpose vx_minus to create vy_minus\n",
    "    vy_minus = vx_minus.T\n",
    "\n",
    "    return vx_plus, vy_plus, vx_minus, vy_minus\n"
   ]
  },
  {
   "cell_type": "code",
   "execution_count": null,
   "metadata": {},
   "outputs": [],
   "source": [
    "# use kernals generation function\n",
    "\n",
    "\n",
    "var = 29\n",
    "\n",
    "vx_plus, vy_plus, vx_minus, vy_minus = generate_edge_detection_kernels(var)"
   ]
  },
  {
   "cell_type": "code",
   "execution_count": null,
   "metadata": {},
   "outputs": [],
   "source": [
    "# convoluve with seperate directions\n",
    "\n",
    "import numpy as np\n",
    "from scipy.signal import convolve2d\n",
    "import cv2\n",
    "\n",
    "\n",
    "image = cv2.imread(image_path)\n",
    "gray_image = cv2.cvtColor(image, cv2.COLOR_BGR2GRAY)\n",
    "\n",
    "\n",
    "convolved_arrayx_plus = convolve2d(gray_image, vx_plus, mode='same', boundary='symm')\n",
    "convolved_arrayy_plus = convolve2d(gray_image, vy_plus, mode='same', boundary='symm')\n",
    "convolved_array_plus = np.abs(np.sqrt(np.square(convolved_arrayx_plus) + np.square(convolved_arrayy_plus)))\n",
    "\n",
    "\n",
    "convolved_arrayx_minus = convolve2d(gray_image, vx_minus, mode='same', boundary='symm')\n",
    "convolved_arrayy_minus = convolve2d(gray_image, vy_minus, mode='same', boundary='symm')\n",
    "convolved_array_minus = np.abs(np.sqrt(np.square(convolved_arrayx_minus) + np.square(convolved_arrayy_minus)))\n",
    "\n",
    "\n",
    "cv2.imwrite(\"file/out/1_1.png\", convolved_array_plus)\n",
    "cv2.imwrite(\"file/out/1_2.png\", convolved_arrayx_plus)\n",
    "cv2.imwrite(\"file/out/1_3.png\", convolved_arrayy_plus)\n",
    "\n",
    "cv2.imwrite(\"file/out/2_1.png\", convolved_array_minus)\n",
    "cv2.imwrite(\"file/out/2_2.png\", convolved_arrayx_minus)\n",
    "cv2.imwrite(\"file/out/2_3.png\", convolved_arrayy_minus)\n"
   ]
  },
  {
   "cell_type": "code",
   "execution_count": null,
   "metadata": {},
   "outputs": [],
   "source": [
    "import numpy as np\n",
    "from scipy.signal import convolve2d\n",
    "import cv2\n",
    "\n",
    "image = cv2.imread(image_path)\n",
    "gray_image = cv2.cvtColor(image, cv2.COLOR_BGR2GRAY)\n",
    "\n",
    "\n",
    "convolved_arrayx_plus = convolve2d(gray_image, vx_plus, mode='same', boundary='symm')\n",
    "convolved_arrayy_plus = convolve2d(gray_image, vy_plus, mode='same', boundary='symm')\n",
    "convolved_array_plus = np.sqrt(np.square(convolved_arrayx_plus) + np.square(convolved_arrayy_plus))\n",
    "\n",
    "\n",
    "convolved_arrayx_minus = convolve2d(gray_image, vx_minus, mode='same', boundary='symm')\n",
    "convolved_arrayy_minus = convolve2d(gray_image, vy_minus, mode='same', boundary='symm')\n",
    "convolved_array_minus = np.sqrt(np.square(convolved_arrayx_minus) + np.square(convolved_arrayy_minus))\n",
    "\n",
    "combined_convolved_array = np.maximum(convolved_array_plus, convolved_array_minus)\n",
    "\n",
    "normalized_result = cv2.normalize(combined_convolved_array, None, 0, 255, cv2.NORM_MINMAX)\n",
    "\n",
    "final_result = normalized_result.astype(np.uint8)\n",
    "\n",
    "cv2.imwrite(f'file/out/edge_detection_result{var}.jpg', final_result)\n"
   ]
  },
  {
   "cell_type": "code",
   "execution_count": null,
   "metadata": {},
   "outputs": [],
   "source": [
    "# threadsholding\n",
    "\n",
    "import numpy as np\n",
    "from scipy.signal import convolve2d\n",
    "import cv2\n",
    "\n",
    "image = cv2.imread(image_path)\n",
    "gray_image = cv2.cvtColor(image, cv2.COLOR_BGR2GRAY)\n",
    "\n",
    "\n",
    "convolved_arrayx_plus = convolve2d(gray_image, vx_plus, mode='same', boundary='symm')\n",
    "convolved_arrayy_plus = convolve2d(gray_image, vy_plus, mode='same', boundary='symm')\n",
    "convolved_array_plus = np.sqrt(np.square(convolved_arrayx_plus) + np.square(convolved_arrayy_plus))\n",
    "\n",
    "\n",
    "convolved_arrayx_minus = convolve2d(gray_image, vx_minus, mode='same', boundary='symm')\n",
    "convolved_arrayy_minus = convolve2d(gray_image, vy_minus, mode='same', boundary='symm')\n",
    "convolved_array_minus = np.sqrt(np.square(convolved_arrayx_minus) + np.square(convolved_arrayy_minus))\n",
    "\n",
    "normalized_result = cv2.normalize(convolved_array_plus, convolved_array_minus, 0, 255, cv2.NORM_MINMAX)\n",
    "\n",
    "thresholded_array = np.where(normalized_result > 20, 255, 0).astype(np.uint8)\n",
    "\n",
    "cv2.imwrite(f'file/out/thresholded_edge_detection_result{var}.jpg', thresholded_array)\n"
   ]
  },
  {
   "cell_type": "code",
   "execution_count": null,
   "metadata": {},
   "outputs": [],
   "source": [
    "# image shape check\n",
    "\n",
    "print(image.shape)\n",
    "print(thresholded_array.shape)\n"
   ]
  }
 ],
 "metadata": {
  "kernelspec": {
   "display_name": "cv_env",
   "language": "python",
   "name": "python3"
  },
  "language_info": {
   "codemirror_mode": {
    "name": "ipython",
    "version": 3
   },
   "file_extension": ".py",
   "mimetype": "text/x-python",
   "name": "python",
   "nbconvert_exporter": "python",
   "pygments_lexer": "ipython3",
   "version": "3.12.5"
  }
 },
 "nbformat": 4,
 "nbformat_minor": 2
}
